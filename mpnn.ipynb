{
 "cells": [
  {
   "cell_type": "code",
   "execution_count": 1,
   "metadata": {},
   "outputs": [],
   "source": [
    "import os"
   ]
  },
  {
   "cell_type": "code",
   "execution_count": 9,
   "metadata": {},
   "outputs": [],
   "source": [
    "import numpy as np\n",
    "import pandas as pd"
   ]
  },
  {
   "cell_type": "code",
   "execution_count": 46,
   "metadata": {},
   "outputs": [],
   "source": [
    "from ipywidgets import FloatProgress\n",
    "from IPython.display import display"
   ]
  },
  {
   "cell_type": "markdown",
   "metadata": {},
   "source": [
    "Widgets to display progress bars."
   ]
  },
  {
   "cell_type": "code",
   "execution_count": 53,
   "metadata": {},
   "outputs": [],
   "source": [
    "from collections import OrderedDict"
   ]
  },
  {
   "cell_type": "markdown",
   "metadata": {},
   "source": [
    "Two OrderedDicts will represent the molecule"
   ]
  },
  {
   "cell_type": "code",
   "execution_count": null,
   "metadata": {},
   "outputs": [],
   "source": []
  },
  {
   "cell_type": "code",
   "execution_count": 54,
   "metadata": {},
   "outputs": [],
   "source": [
    "\n",
    "import deepchem as dc\n",
    "from rdkit import Chem, DataStructs\n",
    "from rdkit.Chem import AllChem\n",
    "from deepchem.feat.graph_features import *"
   ]
  },
  {
   "cell_type": "code",
   "execution_count": 55,
   "metadata": {},
   "outputs": [],
   "source": [
    "import torch\n",
    "import torch.nn as nn\n",
    "import torch.optim as optim\n",
    "import torch.nn.functional as F"
   ]
  },
  {
   "cell_type": "code",
   "execution_count": 56,
   "metadata": {},
   "outputs": [],
   "source": [
    "N = 133885 # number of molecules in the dataset\n",
    "D = 75     # hidden dimension of each atom\n",
    "E = 6      # dimension of each edge\n",
    "T = 3      # number of time steps the message phase will run for\n",
    "P = 32     # dimensions of the output from the readout phase, the penultimate output before the target layer\n",
    "V = 12     # dimensions of the molecular targets or tasks"
   ]
  },
  {
   "cell_type": "markdown",
   "metadata": {},
   "source": [
    "N = TRAIN_SIZE + VALID_SIZE + TEST_SIZE + delta\n",
    "\n",
    "The delta can be incorporated by having the final batch size smaller than the rest."
   ]
  },
  {
   "cell_type": "code",
   "execution_count": 57,
   "metadata": {},
   "outputs": [],
   "source": [
    "TRAIN_SIZE = 113880\n",
    "VALID_SIZE = 10000\n",
    "TEST_SIZE  = 10000\n",
    "BATCH_SIZE = 20\n",
    "NUM_EPOCHS = 7"
   ]
  },
  {
   "cell_type": "markdown",
   "metadata": {},
   "source": [
    "LR is the initial learning rate.\n",
    "DF is the decay factor.\n",
    "LF is the final learning rate."
   ]
  },
  {
   "cell_type": "code",
   "execution_count": 58,
   "metadata": {},
   "outputs": [],
   "source": [
    "DF = np.random.uniform(0.01, 1)\n",
    "LR = np.random.uniform(1e-5, 5e-4)\n",
    "LF = DF * LR"
   ]
  },
  {
   "cell_type": "code",
   "execution_count": 59,
   "metadata": {},
   "outputs": [
    {
     "name": "stdout",
     "output_type": "stream",
     "text": [
      "decay factor          : 0.633189\n",
      "initial learning rate : 0.000223\n",
      "final learning rate   : 0.000141\n"
     ]
    }
   ],
   "source": [
    "print('decay factor          : %.6f'%(DF))\n",
    "print('initial learning rate : %.6f'%(LR))\n",
    "print('final learning rate   : %.6f'%(LF))"
   ]
  },
  {
   "cell_type": "markdown",
   "metadata": {},
   "source": [
    "Get the qm9.csv file from this url : http://deepchem.io.s3-website-us-west-1.amazonaws.com/datasets/qm9.csv"
   ]
  },
  {
   "cell_type": "code",
   "execution_count": 60,
   "metadata": {},
   "outputs": [],
   "source": [
    "qm9 = pd.read_csv('qm9.csv')"
   ]
  },
  {
   "cell_type": "code",
   "execution_count": 61,
   "metadata": {},
   "outputs": [
    {
     "data": {
      "text/html": [
       "<div>\n",
       "<style scoped>\n",
       "    .dataframe tbody tr th:only-of-type {\n",
       "        vertical-align: middle;\n",
       "    }\n",
       "\n",
       "    .dataframe tbody tr th {\n",
       "        vertical-align: top;\n",
       "    }\n",
       "\n",
       "    .dataframe thead th {\n",
       "        text-align: right;\n",
       "    }\n",
       "</style>\n",
       "<table border=\"1\" class=\"dataframe\">\n",
       "  <thead>\n",
       "    <tr style=\"text-align: right;\">\n",
       "      <th></th>\n",
       "      <th>mol_id</th>\n",
       "      <th>smiles</th>\n",
       "      <th>A</th>\n",
       "      <th>B</th>\n",
       "      <th>C</th>\n",
       "      <th>mu</th>\n",
       "      <th>alpha</th>\n",
       "      <th>homo</th>\n",
       "      <th>lumo</th>\n",
       "      <th>gap</th>\n",
       "      <th>...</th>\n",
       "      <th>zpve</th>\n",
       "      <th>u0</th>\n",
       "      <th>u298</th>\n",
       "      <th>h298</th>\n",
       "      <th>g298</th>\n",
       "      <th>cv</th>\n",
       "      <th>u0_atom</th>\n",
       "      <th>u298_atom</th>\n",
       "      <th>h298_atom</th>\n",
       "      <th>g298_atom</th>\n",
       "    </tr>\n",
       "  </thead>\n",
       "  <tbody>\n",
       "    <tr>\n",
       "      <td>0</td>\n",
       "      <td>gdb_1</td>\n",
       "      <td>C</td>\n",
       "      <td>157.71180</td>\n",
       "      <td>157.709970</td>\n",
       "      <td>157.706990</td>\n",
       "      <td>0.0000</td>\n",
       "      <td>13.21</td>\n",
       "      <td>-0.3877</td>\n",
       "      <td>0.1171</td>\n",
       "      <td>0.5048</td>\n",
       "      <td>...</td>\n",
       "      <td>0.044749</td>\n",
       "      <td>-40.478930</td>\n",
       "      <td>-40.476062</td>\n",
       "      <td>-40.475117</td>\n",
       "      <td>-40.498597</td>\n",
       "      <td>6.469</td>\n",
       "      <td>-395.999595</td>\n",
       "      <td>-398.643290</td>\n",
       "      <td>-401.014647</td>\n",
       "      <td>-372.471772</td>\n",
       "    </tr>\n",
       "    <tr>\n",
       "      <td>1</td>\n",
       "      <td>gdb_2</td>\n",
       "      <td>N</td>\n",
       "      <td>293.60975</td>\n",
       "      <td>293.541110</td>\n",
       "      <td>191.393970</td>\n",
       "      <td>1.6256</td>\n",
       "      <td>9.46</td>\n",
       "      <td>-0.2570</td>\n",
       "      <td>0.0829</td>\n",
       "      <td>0.3399</td>\n",
       "      <td>...</td>\n",
       "      <td>0.034358</td>\n",
       "      <td>-56.525887</td>\n",
       "      <td>-56.523026</td>\n",
       "      <td>-56.522082</td>\n",
       "      <td>-56.544961</td>\n",
       "      <td>6.316</td>\n",
       "      <td>-276.861363</td>\n",
       "      <td>-278.620271</td>\n",
       "      <td>-280.399259</td>\n",
       "      <td>-259.338802</td>\n",
       "    </tr>\n",
       "    <tr>\n",
       "      <td>2</td>\n",
       "      <td>gdb_3</td>\n",
       "      <td>O</td>\n",
       "      <td>799.58812</td>\n",
       "      <td>437.903860</td>\n",
       "      <td>282.945450</td>\n",
       "      <td>1.8511</td>\n",
       "      <td>6.31</td>\n",
       "      <td>-0.2928</td>\n",
       "      <td>0.0687</td>\n",
       "      <td>0.3615</td>\n",
       "      <td>...</td>\n",
       "      <td>0.021375</td>\n",
       "      <td>-76.404702</td>\n",
       "      <td>-76.401867</td>\n",
       "      <td>-76.400922</td>\n",
       "      <td>-76.422349</td>\n",
       "      <td>6.002</td>\n",
       "      <td>-213.087624</td>\n",
       "      <td>-213.974294</td>\n",
       "      <td>-215.159658</td>\n",
       "      <td>-201.407171</td>\n",
       "    </tr>\n",
       "    <tr>\n",
       "      <td>3</td>\n",
       "      <td>gdb_4</td>\n",
       "      <td>C#C</td>\n",
       "      <td>0.00000</td>\n",
       "      <td>35.610036</td>\n",
       "      <td>35.610036</td>\n",
       "      <td>0.0000</td>\n",
       "      <td>16.28</td>\n",
       "      <td>-0.2845</td>\n",
       "      <td>0.0506</td>\n",
       "      <td>0.3351</td>\n",
       "      <td>...</td>\n",
       "      <td>0.026841</td>\n",
       "      <td>-77.308427</td>\n",
       "      <td>-77.305527</td>\n",
       "      <td>-77.304583</td>\n",
       "      <td>-77.327429</td>\n",
       "      <td>8.574</td>\n",
       "      <td>-385.501997</td>\n",
       "      <td>-387.237686</td>\n",
       "      <td>-389.016047</td>\n",
       "      <td>-365.800724</td>\n",
       "    </tr>\n",
       "    <tr>\n",
       "      <td>4</td>\n",
       "      <td>gdb_5</td>\n",
       "      <td>C#N</td>\n",
       "      <td>0.00000</td>\n",
       "      <td>44.593883</td>\n",
       "      <td>44.593883</td>\n",
       "      <td>2.8937</td>\n",
       "      <td>12.99</td>\n",
       "      <td>-0.3604</td>\n",
       "      <td>0.0191</td>\n",
       "      <td>0.3796</td>\n",
       "      <td>...</td>\n",
       "      <td>0.016601</td>\n",
       "      <td>-93.411888</td>\n",
       "      <td>-93.409370</td>\n",
       "      <td>-93.408425</td>\n",
       "      <td>-93.431246</td>\n",
       "      <td>6.278</td>\n",
       "      <td>-301.820534</td>\n",
       "      <td>-302.906752</td>\n",
       "      <td>-304.091489</td>\n",
       "      <td>-288.720028</td>\n",
       "    </tr>\n",
       "  </tbody>\n",
       "</table>\n",
       "<p>5 rows × 21 columns</p>\n",
       "</div>"
      ],
      "text/plain": [
       "  mol_id smiles          A           B           C      mu  alpha    homo  \\\n",
       "0  gdb_1      C  157.71180  157.709970  157.706990  0.0000  13.21 -0.3877   \n",
       "1  gdb_2      N  293.60975  293.541110  191.393970  1.6256   9.46 -0.2570   \n",
       "2  gdb_3      O  799.58812  437.903860  282.945450  1.8511   6.31 -0.2928   \n",
       "3  gdb_4    C#C    0.00000   35.610036   35.610036  0.0000  16.28 -0.2845   \n",
       "4  gdb_5    C#N    0.00000   44.593883   44.593883  2.8937  12.99 -0.3604   \n",
       "\n",
       "     lumo     gap  ...      zpve         u0       u298       h298       g298  \\\n",
       "0  0.1171  0.5048  ...  0.044749 -40.478930 -40.476062 -40.475117 -40.498597   \n",
       "1  0.0829  0.3399  ...  0.034358 -56.525887 -56.523026 -56.522082 -56.544961   \n",
       "2  0.0687  0.3615  ...  0.021375 -76.404702 -76.401867 -76.400922 -76.422349   \n",
       "3  0.0506  0.3351  ...  0.026841 -77.308427 -77.305527 -77.304583 -77.327429   \n",
       "4  0.0191  0.3796  ...  0.016601 -93.411888 -93.409370 -93.408425 -93.431246   \n",
       "\n",
       "      cv     u0_atom   u298_atom   h298_atom   g298_atom  \n",
       "0  6.469 -395.999595 -398.643290 -401.014647 -372.471772  \n",
       "1  6.316 -276.861363 -278.620271 -280.399259 -259.338802  \n",
       "2  6.002 -213.087624 -213.974294 -215.159658 -201.407171  \n",
       "3  8.574 -385.501997 -387.237686 -389.016047 -365.800724  \n",
       "4  6.278 -301.820534 -302.906752 -304.091489 -288.720028  \n",
       "\n",
       "[5 rows x 21 columns]"
      ]
     },
     "execution_count": 61,
     "metadata": {},
     "output_type": "execute_result"
    }
   ],
   "source": [
    "qm9.head()"
   ]
  },
  {
   "cell_type": "markdown",
   "metadata": {},
   "source": [
    "The chemical accuracies for various targets are from Table 5 of Gilmer et. al."
   ]
  },
  {
   "cell_type": "code",
   "execution_count": 62,
   "metadata": {},
   "outputs": [],
   "source": [
    "chemical_accuracy_dict = {'mu': [0.1],\n",
    "                          'alpha': [0.1],\n",
    "                          'homo': [0.043],\n",
    "                          'lumo': [0.043],\n",
    "                          'gap': [0.043],\n",
    "                          'r2': [1.2],\n",
    "                          'zpve': [0.0012],\n",
    "                          'u0': [0.043],\n",
    "                          'u298': [0.043],\n",
    "                          'h298': [0.043],\n",
    "                          'g298': [0.043],\n",
    "                          'cv': [0.50]}"
   ]
  },
  {
   "cell_type": "code",
   "execution_count": 63,
   "metadata": {},
   "outputs": [],
   "source": [
    "chemical_accuracy = pd.DataFrame(chemical_accuracy_dict)"
   ]
  },
  {
   "cell_type": "code",
   "execution_count": 64,
   "metadata": {
    "scrolled": true
   },
   "outputs": [
    {
     "data": {
      "text/html": [
       "<div>\n",
       "<style scoped>\n",
       "    .dataframe tbody tr th:only-of-type {\n",
       "        vertical-align: middle;\n",
       "    }\n",
       "\n",
       "    .dataframe tbody tr th {\n",
       "        vertical-align: top;\n",
       "    }\n",
       "\n",
       "    .dataframe thead th {\n",
       "        text-align: right;\n",
       "    }\n",
       "</style>\n",
       "<table border=\"1\" class=\"dataframe\">\n",
       "  <thead>\n",
       "    <tr style=\"text-align: right;\">\n",
       "      <th></th>\n",
       "      <th>mu</th>\n",
       "      <th>alpha</th>\n",
       "      <th>homo</th>\n",
       "      <th>lumo</th>\n",
       "      <th>gap</th>\n",
       "      <th>r2</th>\n",
       "      <th>zpve</th>\n",
       "      <th>u0</th>\n",
       "      <th>u298</th>\n",
       "      <th>h298</th>\n",
       "      <th>g298</th>\n",
       "      <th>cv</th>\n",
       "    </tr>\n",
       "  </thead>\n",
       "  <tbody>\n",
       "    <tr>\n",
       "      <td>0</td>\n",
       "      <td>0.1</td>\n",
       "      <td>0.1</td>\n",
       "      <td>0.043</td>\n",
       "      <td>0.043</td>\n",
       "      <td>0.043</td>\n",
       "      <td>1.2</td>\n",
       "      <td>0.0012</td>\n",
       "      <td>0.043</td>\n",
       "      <td>0.043</td>\n",
       "      <td>0.043</td>\n",
       "      <td>0.043</td>\n",
       "      <td>0.5</td>\n",
       "    </tr>\n",
       "  </tbody>\n",
       "</table>\n",
       "</div>"
      ],
      "text/plain": [
       "    mu  alpha   homo   lumo    gap   r2    zpve     u0   u298   h298   g298  \\\n",
       "0  0.1    0.1  0.043  0.043  0.043  1.2  0.0012  0.043  0.043  0.043  0.043   \n",
       "\n",
       "    cv  \n",
       "0  0.5  "
      ]
     },
     "execution_count": 64,
     "metadata": {},
     "output_type": "execute_result"
    }
   ],
   "source": [
    "chemical_accuracy"
   ]
  },
  {
   "cell_type": "code",
   "execution_count": 65,
   "metadata": {},
   "outputs": [],
   "source": [
    "structures = ['smiles']\n",
    "tasks = ['mu', 'alpha', 'homo', 'lumo', 'gap', 'r2', 'zpve', 'u0', 'u298', 'h298', 'g298', 'cv']"
   ]
  },
  {
   "cell_type": "code",
   "execution_count": 66,
   "metadata": {},
   "outputs": [],
   "source": [
    "X = qm9[structures]\n",
    "y = qm9[tasks]"
   ]
  },
  {
   "cell_type": "code",
   "execution_count": 67,
   "metadata": {},
   "outputs": [],
   "source": [
    "from sklearn.preprocessing import MinMaxScaler, RobustScaler, StandardScaler"
   ]
  },
  {
   "cell_type": "code",
   "execution_count": 68,
   "metadata": {
    "scrolled": true
   },
   "outputs": [
    {
     "data": {
      "text/html": [
       "<div>\n",
       "<style scoped>\n",
       "    .dataframe tbody tr th:only-of-type {\n",
       "        vertical-align: middle;\n",
       "    }\n",
       "\n",
       "    .dataframe tbody tr th {\n",
       "        vertical-align: top;\n",
       "    }\n",
       "\n",
       "    .dataframe thead th {\n",
       "        text-align: right;\n",
       "    }\n",
       "</style>\n",
       "<table border=\"1\" class=\"dataframe\">\n",
       "  <thead>\n",
       "    <tr style=\"text-align: right;\">\n",
       "      <th></th>\n",
       "      <th>mu</th>\n",
       "      <th>alpha</th>\n",
       "      <th>homo</th>\n",
       "      <th>lumo</th>\n",
       "      <th>gap</th>\n",
       "      <th>r2</th>\n",
       "      <th>zpve</th>\n",
       "      <th>u0</th>\n",
       "      <th>u298</th>\n",
       "      <th>h298</th>\n",
       "      <th>g298</th>\n",
       "      <th>cv</th>\n",
       "    </tr>\n",
       "  </thead>\n",
       "  <tbody>\n",
       "    <tr>\n",
       "      <td>0</td>\n",
       "      <td>0.0000</td>\n",
       "      <td>13.21</td>\n",
       "      <td>-0.3877</td>\n",
       "      <td>0.1171</td>\n",
       "      <td>0.5048</td>\n",
       "      <td>35.3641</td>\n",
       "      <td>0.044749</td>\n",
       "      <td>-40.478930</td>\n",
       "      <td>-40.476062</td>\n",
       "      <td>-40.475117</td>\n",
       "      <td>-40.498597</td>\n",
       "      <td>6.469</td>\n",
       "    </tr>\n",
       "    <tr>\n",
       "      <td>1</td>\n",
       "      <td>1.6256</td>\n",
       "      <td>9.46</td>\n",
       "      <td>-0.2570</td>\n",
       "      <td>0.0829</td>\n",
       "      <td>0.3399</td>\n",
       "      <td>26.1563</td>\n",
       "      <td>0.034358</td>\n",
       "      <td>-56.525887</td>\n",
       "      <td>-56.523026</td>\n",
       "      <td>-56.522082</td>\n",
       "      <td>-56.544961</td>\n",
       "      <td>6.316</td>\n",
       "    </tr>\n",
       "    <tr>\n",
       "      <td>2</td>\n",
       "      <td>1.8511</td>\n",
       "      <td>6.31</td>\n",
       "      <td>-0.2928</td>\n",
       "      <td>0.0687</td>\n",
       "      <td>0.3615</td>\n",
       "      <td>19.0002</td>\n",
       "      <td>0.021375</td>\n",
       "      <td>-76.404702</td>\n",
       "      <td>-76.401867</td>\n",
       "      <td>-76.400922</td>\n",
       "      <td>-76.422349</td>\n",
       "      <td>6.002</td>\n",
       "    </tr>\n",
       "    <tr>\n",
       "      <td>3</td>\n",
       "      <td>0.0000</td>\n",
       "      <td>16.28</td>\n",
       "      <td>-0.2845</td>\n",
       "      <td>0.0506</td>\n",
       "      <td>0.3351</td>\n",
       "      <td>59.5248</td>\n",
       "      <td>0.026841</td>\n",
       "      <td>-77.308427</td>\n",
       "      <td>-77.305527</td>\n",
       "      <td>-77.304583</td>\n",
       "      <td>-77.327429</td>\n",
       "      <td>8.574</td>\n",
       "    </tr>\n",
       "    <tr>\n",
       "      <td>4</td>\n",
       "      <td>2.8937</td>\n",
       "      <td>12.99</td>\n",
       "      <td>-0.3604</td>\n",
       "      <td>0.0191</td>\n",
       "      <td>0.3796</td>\n",
       "      <td>48.7476</td>\n",
       "      <td>0.016601</td>\n",
       "      <td>-93.411888</td>\n",
       "      <td>-93.409370</td>\n",
       "      <td>-93.408425</td>\n",
       "      <td>-93.431246</td>\n",
       "      <td>6.278</td>\n",
       "    </tr>\n",
       "  </tbody>\n",
       "</table>\n",
       "</div>"
      ],
      "text/plain": [
       "       mu  alpha    homo    lumo     gap       r2      zpve         u0  \\\n",
       "0  0.0000  13.21 -0.3877  0.1171  0.5048  35.3641  0.044749 -40.478930   \n",
       "1  1.6256   9.46 -0.2570  0.0829  0.3399  26.1563  0.034358 -56.525887   \n",
       "2  1.8511   6.31 -0.2928  0.0687  0.3615  19.0002  0.021375 -76.404702   \n",
       "3  0.0000  16.28 -0.2845  0.0506  0.3351  59.5248  0.026841 -77.308427   \n",
       "4  2.8937  12.99 -0.3604  0.0191  0.3796  48.7476  0.016601 -93.411888   \n",
       "\n",
       "        u298       h298       g298     cv  \n",
       "0 -40.476062 -40.475117 -40.498597  6.469  \n",
       "1 -56.523026 -56.522082 -56.544961  6.316  \n",
       "2 -76.401867 -76.400922 -76.422349  6.002  \n",
       "3 -77.305527 -77.304583 -77.327429  8.574  \n",
       "4 -93.409370 -93.408425 -93.431246  6.278  "
      ]
     },
     "execution_count": 68,
     "metadata": {},
     "output_type": "execute_result"
    }
   ],
   "source": [
    "y.head()"
   ]
  },
  {
   "cell_type": "code",
   "execution_count": 69,
   "metadata": {},
   "outputs": [
    {
     "data": {
      "text/html": [
       "<div>\n",
       "<style scoped>\n",
       "    .dataframe tbody tr th:only-of-type {\n",
       "        vertical-align: middle;\n",
       "    }\n",
       "\n",
       "    .dataframe tbody tr th {\n",
       "        vertical-align: top;\n",
       "    }\n",
       "\n",
       "    .dataframe thead th {\n",
       "        text-align: right;\n",
       "    }\n",
       "</style>\n",
       "<table border=\"1\" class=\"dataframe\">\n",
       "  <thead>\n",
       "    <tr style=\"text-align: right;\">\n",
       "      <th></th>\n",
       "      <th>mu</th>\n",
       "      <th>alpha</th>\n",
       "      <th>homo</th>\n",
       "      <th>lumo</th>\n",
       "      <th>gap</th>\n",
       "      <th>r2</th>\n",
       "      <th>zpve</th>\n",
       "      <th>u0</th>\n",
       "      <th>u298</th>\n",
       "      <th>h298</th>\n",
       "      <th>g298</th>\n",
       "      <th>cv</th>\n",
       "    </tr>\n",
       "  </thead>\n",
       "  <tbody>\n",
       "    <tr>\n",
       "      <td>count</td>\n",
       "      <td>133885.000000</td>\n",
       "      <td>133885.000000</td>\n",
       "      <td>133885.000000</td>\n",
       "      <td>133885.000000</td>\n",
       "      <td>133885.000000</td>\n",
       "      <td>133885.000000</td>\n",
       "      <td>133885.000000</td>\n",
       "      <td>133885.000000</td>\n",
       "      <td>133885.000000</td>\n",
       "      <td>133885.000000</td>\n",
       "      <td>133885.000000</td>\n",
       "      <td>133885.000000</td>\n",
       "    </tr>\n",
       "    <tr>\n",
       "      <td>mean</td>\n",
       "      <td>2.706037</td>\n",
       "      <td>75.191296</td>\n",
       "      <td>-0.239977</td>\n",
       "      <td>0.011124</td>\n",
       "      <td>0.251100</td>\n",
       "      <td>1189.527450</td>\n",
       "      <td>0.148524</td>\n",
       "      <td>-411.543985</td>\n",
       "      <td>-411.535513</td>\n",
       "      <td>-411.534569</td>\n",
       "      <td>-411.577397</td>\n",
       "      <td>31.600676</td>\n",
       "    </tr>\n",
       "    <tr>\n",
       "      <td>std</td>\n",
       "      <td>1.530394</td>\n",
       "      <td>8.187793</td>\n",
       "      <td>0.022131</td>\n",
       "      <td>0.046936</td>\n",
       "      <td>0.047519</td>\n",
       "      <td>279.757172</td>\n",
       "      <td>0.033274</td>\n",
       "      <td>40.060230</td>\n",
       "      <td>40.060012</td>\n",
       "      <td>40.060012</td>\n",
       "      <td>40.060741</td>\n",
       "      <td>4.062471</td>\n",
       "    </tr>\n",
       "    <tr>\n",
       "      <td>min</td>\n",
       "      <td>0.000000</td>\n",
       "      <td>6.310000</td>\n",
       "      <td>-0.428600</td>\n",
       "      <td>-0.175000</td>\n",
       "      <td>0.024600</td>\n",
       "      <td>19.000200</td>\n",
       "      <td>0.015951</td>\n",
       "      <td>-714.568061</td>\n",
       "      <td>-714.560153</td>\n",
       "      <td>-714.559209</td>\n",
       "      <td>-714.602138</td>\n",
       "      <td>6.002000</td>\n",
       "    </tr>\n",
       "    <tr>\n",
       "      <td>25%</td>\n",
       "      <td>1.588700</td>\n",
       "      <td>70.380000</td>\n",
       "      <td>-0.252500</td>\n",
       "      <td>-0.023800</td>\n",
       "      <td>0.216300</td>\n",
       "      <td>1018.322600</td>\n",
       "      <td>0.125289</td>\n",
       "      <td>-437.913936</td>\n",
       "      <td>-437.905942</td>\n",
       "      <td>-437.904997</td>\n",
       "      <td>-437.947682</td>\n",
       "      <td>28.942000</td>\n",
       "    </tr>\n",
       "    <tr>\n",
       "      <td>50%</td>\n",
       "      <td>2.500000</td>\n",
       "      <td>75.500000</td>\n",
       "      <td>-0.241000</td>\n",
       "      <td>0.012000</td>\n",
       "      <td>0.249400</td>\n",
       "      <td>1147.585800</td>\n",
       "      <td>0.148329</td>\n",
       "      <td>-417.864758</td>\n",
       "      <td>-417.857351</td>\n",
       "      <td>-417.856407</td>\n",
       "      <td>-417.895731</td>\n",
       "      <td>31.555000</td>\n",
       "    </tr>\n",
       "    <tr>\n",
       "      <td>75%</td>\n",
       "      <td>3.636100</td>\n",
       "      <td>80.520000</td>\n",
       "      <td>-0.228700</td>\n",
       "      <td>0.049200</td>\n",
       "      <td>0.288200</td>\n",
       "      <td>1308.816600</td>\n",
       "      <td>0.171150</td>\n",
       "      <td>-387.049166</td>\n",
       "      <td>-387.039746</td>\n",
       "      <td>-387.038802</td>\n",
       "      <td>-387.083279</td>\n",
       "      <td>34.276000</td>\n",
       "    </tr>\n",
       "    <tr>\n",
       "      <td>max</td>\n",
       "      <td>29.556400</td>\n",
       "      <td>196.620000</td>\n",
       "      <td>-0.101700</td>\n",
       "      <td>0.193500</td>\n",
       "      <td>0.622100</td>\n",
       "      <td>3374.753200</td>\n",
       "      <td>0.273944</td>\n",
       "      <td>-40.478930</td>\n",
       "      <td>-40.476062</td>\n",
       "      <td>-40.475117</td>\n",
       "      <td>-40.498597</td>\n",
       "      <td>46.969000</td>\n",
       "    </tr>\n",
       "  </tbody>\n",
       "</table>\n",
       "</div>"
      ],
      "text/plain": [
       "                  mu          alpha           homo           lumo  \\\n",
       "count  133885.000000  133885.000000  133885.000000  133885.000000   \n",
       "mean        2.706037      75.191296      -0.239977       0.011124   \n",
       "std         1.530394       8.187793       0.022131       0.046936   \n",
       "min         0.000000       6.310000      -0.428600      -0.175000   \n",
       "25%         1.588700      70.380000      -0.252500      -0.023800   \n",
       "50%         2.500000      75.500000      -0.241000       0.012000   \n",
       "75%         3.636100      80.520000      -0.228700       0.049200   \n",
       "max        29.556400     196.620000      -0.101700       0.193500   \n",
       "\n",
       "                 gap             r2           zpve             u0  \\\n",
       "count  133885.000000  133885.000000  133885.000000  133885.000000   \n",
       "mean        0.251100    1189.527450       0.148524    -411.543985   \n",
       "std         0.047519     279.757172       0.033274      40.060230   \n",
       "min         0.024600      19.000200       0.015951    -714.568061   \n",
       "25%         0.216300    1018.322600       0.125289    -437.913936   \n",
       "50%         0.249400    1147.585800       0.148329    -417.864758   \n",
       "75%         0.288200    1308.816600       0.171150    -387.049166   \n",
       "max         0.622100    3374.753200       0.273944     -40.478930   \n",
       "\n",
       "                u298           h298           g298             cv  \n",
       "count  133885.000000  133885.000000  133885.000000  133885.000000  \n",
       "mean     -411.535513    -411.534569    -411.577397      31.600676  \n",
       "std        40.060012      40.060012      40.060741       4.062471  \n",
       "min      -714.560153    -714.559209    -714.602138       6.002000  \n",
       "25%      -437.905942    -437.904997    -437.947682      28.942000  \n",
       "50%      -417.857351    -417.856407    -417.895731      31.555000  \n",
       "75%      -387.039746    -387.038802    -387.083279      34.276000  \n",
       "max       -40.476062     -40.475117     -40.498597      46.969000  "
      ]
     },
     "execution_count": 69,
     "metadata": {},
     "output_type": "execute_result"
    }
   ],
   "source": [
    "y.describe()"
   ]
  },
  {
   "cell_type": "code",
   "execution_count": 70,
   "metadata": {},
   "outputs": [],
   "source": [
    "scaler = StandardScaler()"
   ]
  },
  {
   "cell_type": "code",
   "execution_count": 71,
   "metadata": {},
   "outputs": [],
   "source": [
    "y = pd.DataFrame(scaler.fit_transform(y), index=y.index, columns=y.columns)"
   ]
  },
  {
   "cell_type": "code",
   "execution_count": 72,
   "metadata": {},
   "outputs": [
    {
     "data": {
      "text/html": [
       "<div>\n",
       "<style scoped>\n",
       "    .dataframe tbody tr th:only-of-type {\n",
       "        vertical-align: middle;\n",
       "    }\n",
       "\n",
       "    .dataframe tbody tr th {\n",
       "        vertical-align: top;\n",
       "    }\n",
       "\n",
       "    .dataframe thead th {\n",
       "        text-align: right;\n",
       "    }\n",
       "</style>\n",
       "<table border=\"1\" class=\"dataframe\">\n",
       "  <thead>\n",
       "    <tr style=\"text-align: right;\">\n",
       "      <th></th>\n",
       "      <th>mu</th>\n",
       "      <th>alpha</th>\n",
       "      <th>homo</th>\n",
       "      <th>lumo</th>\n",
       "      <th>gap</th>\n",
       "      <th>r2</th>\n",
       "      <th>zpve</th>\n",
       "      <th>u0</th>\n",
       "      <th>u298</th>\n",
       "      <th>h298</th>\n",
       "      <th>g298</th>\n",
       "      <th>cv</th>\n",
       "    </tr>\n",
       "  </thead>\n",
       "  <tbody>\n",
       "    <tr>\n",
       "      <td>count</td>\n",
       "      <td>1.338850e+05</td>\n",
       "      <td>1.338850e+05</td>\n",
       "      <td>1.338850e+05</td>\n",
       "      <td>1.338850e+05</td>\n",
       "      <td>1.338850e+05</td>\n",
       "      <td>1.338850e+05</td>\n",
       "      <td>1.338850e+05</td>\n",
       "      <td>1.338850e+05</td>\n",
       "      <td>1.338850e+05</td>\n",
       "      <td>1.338850e+05</td>\n",
       "      <td>1.338850e+05</td>\n",
       "      <td>1.338850e+05</td>\n",
       "    </tr>\n",
       "    <tr>\n",
       "      <td>mean</td>\n",
       "      <td>6.453449e-17</td>\n",
       "      <td>-4.245690e-16</td>\n",
       "      <td>6.572328e-16</td>\n",
       "      <td>-6.113793e-17</td>\n",
       "      <td>-3.362586e-16</td>\n",
       "      <td>-9.272587e-16</td>\n",
       "      <td>-9.170690e-17</td>\n",
       "      <td>6.249655e-16</td>\n",
       "      <td>-1.379000e-15</td>\n",
       "      <td>-1.902069e-16</td>\n",
       "      <td>7.472414e-16</td>\n",
       "      <td>1.148035e-15</td>\n",
       "    </tr>\n",
       "    <tr>\n",
       "      <td>std</td>\n",
       "      <td>1.000004e+00</td>\n",
       "      <td>1.000004e+00</td>\n",
       "      <td>1.000004e+00</td>\n",
       "      <td>1.000004e+00</td>\n",
       "      <td>1.000004e+00</td>\n",
       "      <td>1.000004e+00</td>\n",
       "      <td>1.000004e+00</td>\n",
       "      <td>1.000004e+00</td>\n",
       "      <td>1.000004e+00</td>\n",
       "      <td>1.000004e+00</td>\n",
       "      <td>1.000004e+00</td>\n",
       "      <td>1.000004e+00</td>\n",
       "    </tr>\n",
       "    <tr>\n",
       "      <td>min</td>\n",
       "      <td>-1.768203e+00</td>\n",
       "      <td>-8.412713e+00</td>\n",
       "      <td>-8.522900e+00</td>\n",
       "      <td>-3.965489e+00</td>\n",
       "      <td>-4.766551e+00</td>\n",
       "      <td>-4.184099e+00</td>\n",
       "      <td>-3.984321e+00</td>\n",
       "      <td>-7.564240e+00</td>\n",
       "      <td>-7.564296e+00</td>\n",
       "      <td>-7.564296e+00</td>\n",
       "      <td>-7.564160e+00</td>\n",
       "      <td>-6.301280e+00</td>\n",
       "    </tr>\n",
       "    <tr>\n",
       "      <td>25%</td>\n",
       "      <td>-7.301006e-01</td>\n",
       "      <td>-5.876204e-01</td>\n",
       "      <td>-5.658624e-01</td>\n",
       "      <td>-7.440738e-01</td>\n",
       "      <td>-7.323509e-01</td>\n",
       "      <td>-6.119789e-01</td>\n",
       "      <td>-6.983094e-01</td>\n",
       "      <td>-6.582601e-01</td>\n",
       "      <td>-6.582756e-01</td>\n",
       "      <td>-6.582756e-01</td>\n",
       "      <td>-6.582600e-01</td>\n",
       "      <td>-6.544503e-01</td>\n",
       "    </tr>\n",
       "    <tr>\n",
       "      <td>50%</td>\n",
       "      <td>-1.346308e-01</td>\n",
       "      <td>3.770307e-02</td>\n",
       "      <td>-4.623760e-02</td>\n",
       "      <td>1.866871e-02</td>\n",
       "      <td>-3.578319e-02</td>\n",
       "      <td>-1.499222e-01</td>\n",
       "      <td>-5.872165e-03</td>\n",
       "      <td>-1.577823e-01</td>\n",
       "      <td>-1.578098e-01</td>\n",
       "      <td>-1.578098e-01</td>\n",
       "      <td>-1.577194e-01</td>\n",
       "      <td>-1.124342e-02</td>\n",
       "    </tr>\n",
       "    <tr>\n",
       "      <td>75%</td>\n",
       "      <td>6.077298e-01</td>\n",
       "      <td>6.508132e-01</td>\n",
       "      <td>5.095351e-01</td>\n",
       "      <td>8.112391e-01</td>\n",
       "      <td>7.807373e-01</td>\n",
       "      <td>4.264041e-01</td>\n",
       "      <td>6.799833e-01</td>\n",
       "      <td>6.114520e-01</td>\n",
       "      <td>6.114791e-01</td>\n",
       "      <td>6.114791e-01</td>\n",
       "      <td>6.114268e-01</td>\n",
       "      <td>6.585484e-01</td>\n",
       "    </tr>\n",
       "    <tr>\n",
       "      <td>max</td>\n",
       "      <td>1.754480e+01</td>\n",
       "      <td>1.483051e+01</td>\n",
       "      <td>6.248001e+00</td>\n",
       "      <td>3.885645e+00</td>\n",
       "      <td>7.807443e+00</td>\n",
       "      <td>7.811181e+00</td>\n",
       "      <td>3.769323e+00</td>\n",
       "      <td>9.262714e+00</td>\n",
       "      <td>9.262624e+00</td>\n",
       "      <td>9.262624e+00</td>\n",
       "      <td>9.262939e+00</td>\n",
       "      <td>3.783013e+00</td>\n",
       "    </tr>\n",
       "  </tbody>\n",
       "</table>\n",
       "</div>"
      ],
      "text/plain": [
       "                 mu         alpha          homo          lumo           gap  \\\n",
       "count  1.338850e+05  1.338850e+05  1.338850e+05  1.338850e+05  1.338850e+05   \n",
       "mean   6.453449e-17 -4.245690e-16  6.572328e-16 -6.113793e-17 -3.362586e-16   \n",
       "std    1.000004e+00  1.000004e+00  1.000004e+00  1.000004e+00  1.000004e+00   \n",
       "min   -1.768203e+00 -8.412713e+00 -8.522900e+00 -3.965489e+00 -4.766551e+00   \n",
       "25%   -7.301006e-01 -5.876204e-01 -5.658624e-01 -7.440738e-01 -7.323509e-01   \n",
       "50%   -1.346308e-01  3.770307e-02 -4.623760e-02  1.866871e-02 -3.578319e-02   \n",
       "75%    6.077298e-01  6.508132e-01  5.095351e-01  8.112391e-01  7.807373e-01   \n",
       "max    1.754480e+01  1.483051e+01  6.248001e+00  3.885645e+00  7.807443e+00   \n",
       "\n",
       "                 r2          zpve            u0          u298          h298  \\\n",
       "count  1.338850e+05  1.338850e+05  1.338850e+05  1.338850e+05  1.338850e+05   \n",
       "mean  -9.272587e-16 -9.170690e-17  6.249655e-16 -1.379000e-15 -1.902069e-16   \n",
       "std    1.000004e+00  1.000004e+00  1.000004e+00  1.000004e+00  1.000004e+00   \n",
       "min   -4.184099e+00 -3.984321e+00 -7.564240e+00 -7.564296e+00 -7.564296e+00   \n",
       "25%   -6.119789e-01 -6.983094e-01 -6.582601e-01 -6.582756e-01 -6.582756e-01   \n",
       "50%   -1.499222e-01 -5.872165e-03 -1.577823e-01 -1.578098e-01 -1.578098e-01   \n",
       "75%    4.264041e-01  6.799833e-01  6.114520e-01  6.114791e-01  6.114791e-01   \n",
       "max    7.811181e+00  3.769323e+00  9.262714e+00  9.262624e+00  9.262624e+00   \n",
       "\n",
       "               g298            cv  \n",
       "count  1.338850e+05  1.338850e+05  \n",
       "mean   7.472414e-16  1.148035e-15  \n",
       "std    1.000004e+00  1.000004e+00  \n",
       "min   -7.564160e+00 -6.301280e+00  \n",
       "25%   -6.582600e-01 -6.544503e-01  \n",
       "50%   -1.577194e-01 -1.124342e-02  \n",
       "75%    6.114268e-01  6.585484e-01  \n",
       "max    9.262939e+00  3.783013e+00  "
      ]
     },
     "execution_count": 72,
     "metadata": {},
     "output_type": "execute_result"
    }
   ],
   "source": [
    "y.describe()"
   ]
  },
  {
   "cell_type": "markdown",
   "metadata": {},
   "source": [
    "Detach is not called on batch_mse_loss as it is required for backpropagation"
   ]
  },
  {
   "cell_type": "code",
   "execution_count": 73,
   "metadata": {},
   "outputs": [],
   "source": [
    "def batch_mse_loss(pred, true):\n",
    "    return F.mse_loss(pred, true) / BATCH_SIZE"
   ]
  },
  {
   "cell_type": "markdown",
   "metadata": {},
   "source": [
    "Detach is called on valid_mse_loss as this is to be used only for tracking."
   ]
  },
  {
   "cell_type": "code",
   "execution_count": 74,
   "metadata": {},
   "outputs": [],
   "source": [
    "def valid_mse_loss(pred, true):\n",
    "    return (F.mse_loss(pred, true)).detach() / VALID_SIZE"
   ]
  },
  {
   "cell_type": "code",
   "execution_count": 75,
   "metadata": {},
   "outputs": [],
   "source": [
    "scale_batch_to_train = BATCH_SIZE / TRAIN_SIZE"
   ]
  },
  {
   "cell_type": "markdown",
   "metadata": {},
   "source": [
    "The following class defines the master edge from each molecule to the master node."
   ]
  },
  {
   "cell_type": "code",
   "execution_count": 76,
   "metadata": {},
   "outputs": [],
   "source": [
    "class MasterEdge(nn.Module):\n",
    "    \n",
    "    def __init__(self):\n",
    "        super(MasterEdge, self).__init__()\n",
    "        \n",
    "        self.l1 = nn.Linear(D, P)\n",
    "        nn.init.kaiming_normal_(self.l1.weight)\n",
    "        self.l2 = nn.Linear(P, 2*E)\n",
    "        nn.init.kaiming_normal_(self.l2.weight)\n",
    "        self.l3 = nn.Linear(2*E, E)\n",
    "        nn.init.kaiming_normal_(self.l3.weight)\n",
    "        \n",
    "    def forward(self, x):\n",
    "        return F.relu(self.l3(F.relu(self.l2(F.relu(self.l1(x))))))"
   ]
  },
  {
   "cell_type": "code",
   "execution_count": 77,
   "metadata": {},
   "outputs": [],
   "source": [
    "master_edge_learner = MasterEdge()"
   ]
  },
  {
   "cell_type": "markdown",
   "metadata": {},
   "source": [
    "The 2 OrderedDicts are G and H."
   ]
  },
  {
   "cell_type": "markdown",
   "metadata": {},
   "source": [
    "G maps the index of each atom to a list of tuples, each containing an edge to, and the index of, an adjacent atom."
   ]
  },
  {
   "cell_type": "markdown",
   "metadata": {},
   "source": [
    "H maps atom indices to their hidden states."
   ]
  },
  {
   "cell_type": "code",
   "execution_count": 78,
   "metadata": {},
   "outputs": [],
   "source": [
    "def construct_multigraph(smile):\n",
    "    g = OrderedDict({})\n",
    "    h = OrderedDict({})\n",
    "    h[-1] = 0\n",
    "    molecule = Chem.MolFromSmiles(smile)\n",
    "    for i in range(molecule.GetNumAtoms()):\n",
    "        atom_i = molecule.GetAtomWithIdx(i)\n",
    "        atom_i_featurized = dc.feat.graph_features.atom_features(atom_i)\n",
    "        atom_i_tensorized = torch.FloatTensor(atom_i_featurized).view(1, D)\n",
    "        h[i] = atom_i_tensorized\n",
    "        h[-1] += h[i]\n",
    "        master_edge = master_edge_learner(h[i])\n",
    "        g.setdefault(i, []).append((master_edge, -1))\n",
    "        g.setdefault(-1, []).append((master_edge, i))\n",
    "        for j in range(molecule.GetNumAtoms()):\n",
    "            bond_ij = molecule.GetBondBetweenAtoms(i, j)\n",
    "            if bond_ij: # bond_ij is None when there is no bond.\n",
    "                #atom_j = molecule.GetAtomWithIdx(j)\n",
    "                #atom_j_featurized = dc.feat.graph_features.atom_features(atom_j)\n",
    "                #atom_j_tensorized = torch.FloatTensor(atom_j_featurized).view(1, 75)\n",
    "                bond_ij_featurized = dc.feat.graph_features.bond_features(bond_ij).astype(int)\n",
    "                bond_ij_tensorized = torch.FloatTensor(bond_ij_featurized).view(1, E)\n",
    "                g.setdefault(i, []).append((bond_ij_tensorized, j))\n",
    "    return g, h"
   ]
  },
  {
   "cell_type": "markdown",
   "metadata": {},
   "source": [
    "The EdgeMappingNeuralNetwork takes as input (1, E) and returns (D, D)"
   ]
  },
  {
   "cell_type": "code",
   "execution_count": 79,
   "metadata": {},
   "outputs": [],
   "source": [
    "class EdgeMappingNeuralNetwork(nn.Module):\n",
    "    \n",
    "    def __init__(self):\n",
    "        super(EdgeMappingNeuralNetwork, self).__init__()\n",
    "        \n",
    "        self.fc1 = nn.Linear(E, D)\n",
    "        nn.init.kaiming_normal_(self.fc1.weight)\n",
    "        self.fc2 = nn.Linear(1, D)\n",
    "        nn.init.kaiming_normal_(self.fc2.weight)\n",
    "        \n",
    "    def f1(self, x):\n",
    "        return F.relu(self.fc1(x))\n",
    "        \n",
    "    def f2(self, x):\n",
    "        return F.relu(self.fc2(x.permute(1, 0)))\n",
    "        \n",
    "    def forward(self, x):\n",
    "        return self.f2(self.f1(x))"
   ]
  },
  {
   "cell_type": "markdown",
   "metadata": {},
   "source": [
    "The MessagePhase combines the message passing and update functions into a single dictionary comprehension. We use G to iterate over every vertex in the graph. For each vertex v, we process its adjacency list of edge and neighbour tuples. We use A to project edge e_vw to a (D, D) vector and then matrix multiply it with the vertex w's hidden state. These messages are summed at each vertex v and fed as input to a GRUCell with weights tied for each time step. This creates the OrderedDict hT for input hT-1."
   ]
  },
  {
   "cell_type": "code",
   "execution_count": 80,
   "metadata": {},
   "outputs": [],
   "source": [
    "class MessagePhase(nn.Module):\n",
    "    \n",
    "    def __init__(self):\n",
    "        super(MessagePhase, self).__init__()\n",
    "        self.A = EdgeMappingNeuralNetwork()\n",
    "        self.U = {i:nn.GRUCell(D, D) for i in range(T)}\n",
    "        \n",
    "    def forward(self, smile):\n",
    "        \n",
    "        g, h = construct_multigraph(smile)\n",
    "        g0, h0 = construct_multigraph(smile)\n",
    "        \n",
    "        for k in range(T):\n",
    "            h = OrderedDict(\n",
    "                {\n",
    "                    v:\n",
    "                    self.U[k](\n",
    "                        sum(torch.matmul(h[w], self.A(e_vw)) for e_vw, w in en), \n",
    "                        h[v]\n",
    "                    )\n",
    "                    for v, en in g.items()\n",
    "                }\n",
    "            )\n",
    "        \n",
    "        return h, h0"
   ]
  },
  {
   "cell_type": "markdown",
   "metadata": {},
   "source": [
    "We use the readout function provided in Gilmer et. al."
   ]
  },
  {
   "cell_type": "code",
   "execution_count": 81,
   "metadata": {},
   "outputs": [],
   "source": [
    "class Readout(nn.Module):\n",
    "    \n",
    "    def __init__(self):\n",
    "        super(Readout, self).__init__()\n",
    "        \n",
    "        self.i1 = nn.Linear(2*D, 2*P)\n",
    "        nn.init.kaiming_normal_(self.i1.weight)\n",
    "        self.i2 = nn.Linear(2*P, P)\n",
    "        nn.init.kaiming_normal_(self.i2.weight)\n",
    "        \n",
    "        self.j1 = nn.Linear(D, P)\n",
    "        nn.init.kaiming_normal_(self.j1.weight)\n",
    "        \n",
    "    def i(self, h_v, h0_v):\n",
    "        return F.relu(self.i2(F.relu(self.i1(torch.cat([h_v, h0_v], dim=1)))))\n",
    "    \n",
    "    def j(self, h_v):        \n",
    "        return F.relu(self.j1(h_v))\n",
    "\n",
    "    def r(self, h, h0):\n",
    "        return sum(torch.sigmoid(self.i(h[v], h0[v])) * self.j(h[v]) for v in h.keys())\n",
    "                      \n",
    "    def forward(self, h, h0):\n",
    "        return self.r(h, h0)"
   ]
  },
  {
   "cell_type": "markdown",
   "metadata": {},
   "source": [
    "Finally, we package all these stages into a single class."
   ]
  },
  {
   "cell_type": "code",
   "execution_count": 82,
   "metadata": {},
   "outputs": [],
   "source": [
    "class MPNN(nn.Module):\n",
    "    \n",
    "    def __init__(self):\n",
    "        super(MPNN, self).__init__()\n",
    "        \n",
    "        self.M = MessagePhase()\n",
    "        self.R = Readout()\n",
    "        \n",
    "        self.p1 = nn.Linear(P, P)\n",
    "        nn.init.kaiming_normal_(self.p1.weight)\n",
    "        self.p2 = nn.Linear(P, P)\n",
    "        nn.init.kaiming_normal_(self.p2.weight)\n",
    "        self.p3 = nn.Linear(P, V)\n",
    "        nn.init.kaiming_normal_(self.p3.weight)\n",
    "        \n",
    "    def p(self, ro):\n",
    "        return F.relu(self.p3(F.relu(self.p2(F.relu(self.p1(ro))))))\n",
    "    \n",
    "    def forward(self, smile):\n",
    "        h, h0 = self.M(smile)\n",
    "        embed = self.R(h, h0)\n",
    "        return self.p(embed)"
   ]
  },
  {
   "cell_type": "code",
   "execution_count": 83,
   "metadata": {},
   "outputs": [],
   "source": [
    "from sklearn.model_selection import train_test_split"
   ]
  },
  {
   "cell_type": "code",
   "execution_count": 84,
   "metadata": {},
   "outputs": [],
   "source": [
    "X_train, X_test, y_train, y_test = train_test_split(X, y, test_size=TEST_SIZE, random_state=143)\n",
    "X_train, X_val, y_train, y_val = train_test_split(X_train, y_train, test_size=VALID_SIZE, random_state=143)"
   ]
  },
  {
   "cell_type": "code",
   "execution_count": 85,
   "metadata": {},
   "outputs": [],
   "source": [
    "model = MPNN()\n",
    "optimizer = optim.Adam(model.parameters(), lr=LR)"
   ]
  },
  {
   "cell_type": "code",
   "execution_count": 86,
   "metadata": {},
   "outputs": [
    {
     "name": "stdout",
     "output_type": "stream",
     "text": [
      "epoch [1/7]\n"
     ]
    },
    {
     "data": {
      "application/vnd.jupyter.widget-view+json": {
       "model_id": "a9dd679927684916b11b493411ae66c7",
       "version_major": 2,
       "version_minor": 0
      },
      "text/plain": [
       "FloatProgress(value=0.0, max=113880.0)"
      ]
     },
     "metadata": {},
     "output_type": "display_data"
    },
    {
     "data": {
      "application/vnd.jupyter.widget-view+json": {
       "model_id": "678612e7a2304fde8a13699799fa3a16",
       "version_major": 2,
       "version_minor": 0
      },
      "text/plain": [
       "FloatProgress(value=0.0, max=10000.0)"
      ]
     },
     "metadata": {},
     "output_type": "display_data"
    },
    {
     "name": "stdout",
     "output_type": "stream",
     "text": [
      "train_loss [0.93]\n",
      "valid_loss [0.85]\n",
      "          mu      alpha      homo     lumo      gap         r2       zpve  \\\n",
      "0  12.021016  63.404932  0.347198  0.90254  0.92222  128.51059  13.500393   \n",
      "\n",
      "           u0        u298       h298        g298        cv  \n",
      "0  528.105935  723.636051  723.69611  523.347278  6.418866  \n",
      "epoch [2/7]\n"
     ]
    },
    {
     "data": {
      "application/vnd.jupyter.widget-view+json": {
       "model_id": "da0422fca1024ba39990e94ea9e4949f",
       "version_major": 2,
       "version_minor": 0
      },
      "text/plain": [
       "FloatProgress(value=0.0, max=113880.0)"
      ]
     },
     "metadata": {},
     "output_type": "display_data"
    },
    {
     "data": {
      "application/vnd.jupyter.widget-view+json": {
       "model_id": "8c60a0a7f22544fab5dc6d921233e09c",
       "version_major": 2,
       "version_minor": 0
      },
      "text/plain": [
       "FloatProgress(value=0.0, max=10000.0)"
      ]
     },
     "metadata": {},
     "output_type": "display_data"
    },
    {
     "name": "stdout",
     "output_type": "stream",
     "text": [
      "train_loss [0.80]\n",
      "valid_loss [0.77]\n",
      "          mu      alpha      homo     lumo      gap          r2       zpve  \\\n",
      "0  12.021016  63.404932  0.307155  0.90254  0.92222  120.765673  12.530256   \n",
      "\n",
      "           u0        u298       h298        g298        cv  \n",
      "0  441.710228  457.666841  723.69611  439.037545  6.419103  \n",
      "epoch [3/7]\n"
     ]
    },
    {
     "data": {
      "application/vnd.jupyter.widget-view+json": {
       "model_id": "f2a11ff6c88f4072b98680c57780781c",
       "version_major": 2,
       "version_minor": 0
      },
      "text/plain": [
       "FloatProgress(value=0.0, max=113880.0)"
      ]
     },
     "metadata": {},
     "output_type": "display_data"
    },
    {
     "data": {
      "application/vnd.jupyter.widget-view+json": {
       "model_id": "da505809b9d04125bce22400dab6e972",
       "version_major": 2,
       "version_minor": 0
      },
      "text/plain": [
       "FloatProgress(value=0.0, max=10000.0)"
      ]
     },
     "metadata": {},
     "output_type": "display_data"
    },
    {
     "name": "stdout",
     "output_type": "stream",
     "text": [
      "train_loss [0.76]\n",
      "valid_loss [0.76]\n",
      "          mu      alpha      homo     lumo      gap          r2       zpve  \\\n",
      "0  12.021016  63.404932  0.294215  0.90254  0.92222  117.654228  12.265405   \n",
      "\n",
      "           u0        u298       h298       g298        cv  \n",
      "0  418.175232  423.546015  723.69611  420.06914  6.419122  \n",
      "epoch [4/7]\n"
     ]
    },
    {
     "data": {
      "application/vnd.jupyter.widget-view+json": {
       "model_id": "3b42c01afe274638b534e53f9c3f5f03",
       "version_major": 2,
       "version_minor": 0
      },
      "text/plain": [
       "FloatProgress(value=0.0, max=113880.0)"
      ]
     },
     "metadata": {},
     "output_type": "display_data"
    },
    {
     "data": {
      "application/vnd.jupyter.widget-view+json": {
       "model_id": "e7e787bcd7e6401bb603d19d91a12e14",
       "version_major": 2,
       "version_minor": 0
      },
      "text/plain": [
       "FloatProgress(value=0.0, max=10000.0)"
      ]
     },
     "metadata": {},
     "output_type": "display_data"
    },
    {
     "name": "stdout",
     "output_type": "stream",
     "text": [
      "train_loss [0.75]\n",
      "valid_loss [0.76]\n",
      "          mu      alpha      homo     lumo      gap          r2       zpve  \\\n",
      "0  12.021016  63.404932  0.287768  0.90254  0.92222  114.845619  12.394311   \n",
      "\n",
      "           u0        u298       h298        g298        cv  \n",
      "0  420.079653  425.312441  723.69611  419.648548  6.419047  \n",
      "epoch [5/7]\n"
     ]
    },
    {
     "data": {
      "application/vnd.jupyter.widget-view+json": {
       "model_id": "145edde4326b4f17ba8cd0445b8584cd",
       "version_major": 2,
       "version_minor": 0
      },
      "text/plain": [
       "FloatProgress(value=0.0, max=113880.0)"
      ]
     },
     "metadata": {},
     "output_type": "display_data"
    },
    {
     "data": {
      "application/vnd.jupyter.widget-view+json": {
       "model_id": "3f27eb93c81c44f4863efbbd414157e2",
       "version_major": 2,
       "version_minor": 0
      },
      "text/plain": [
       "FloatProgress(value=0.0, max=10000.0)"
      ]
     },
     "metadata": {},
     "output_type": "display_data"
    },
    {
     "name": "stdout",
     "output_type": "stream",
     "text": [
      "train_loss [0.75]\n",
      "valid_loss [0.75]\n",
      "          mu      alpha      homo     lumo      gap          r2       zpve  \\\n",
      "0  12.021016  63.404932  0.284066  0.90254  0.92222  113.291143  12.263235   \n",
      "\n",
      "           u0        u298       h298        g298        cv  \n",
      "0  418.055157  414.771368  723.69611  416.125896  6.418866  \n",
      "epoch [6/7]\n"
     ]
    },
    {
     "data": {
      "application/vnd.jupyter.widget-view+json": {
       "model_id": "a29b35a5685c4c3f9181e9dab9c275c5",
       "version_major": 2,
       "version_minor": 0
      },
      "text/plain": [
       "FloatProgress(value=0.0, max=113880.0)"
      ]
     },
     "metadata": {},
     "output_type": "display_data"
    },
    {
     "data": {
      "application/vnd.jupyter.widget-view+json": {
       "model_id": "ff23200a013342c59ebdda9215d4c87c",
       "version_major": 2,
       "version_minor": 0
      },
      "text/plain": [
       "FloatProgress(value=0.0, max=10000.0)"
      ]
     },
     "metadata": {},
     "output_type": "display_data"
    },
    {
     "name": "stdout",
     "output_type": "stream",
     "text": [
      "train_loss [0.74]\n",
      "valid_loss [0.75]\n",
      "          mu      alpha      homo     lumo      gap          r2       zpve  \\\n",
      "0  12.021016  63.404932  0.282286  0.90254  0.92222  112.248942  12.014668   \n",
      "\n",
      "           u0        u298       h298        g298        cv  \n",
      "0  412.121396  413.405308  723.69611  410.840278  6.418866  \n",
      "epoch [7/7]\n"
     ]
    },
    {
     "data": {
      "application/vnd.jupyter.widget-view+json": {
       "model_id": "83143d957e864f09a1bf2f66b57a9312",
       "version_major": 2,
       "version_minor": 0
      },
      "text/plain": [
       "FloatProgress(value=0.0, max=113880.0)"
      ]
     },
     "metadata": {},
     "output_type": "display_data"
    },
    {
     "data": {
      "application/vnd.jupyter.widget-view+json": {
       "model_id": "f55668ba82314005bd76b5f99ebcd25e",
       "version_major": 2,
       "version_minor": 0
      },
      "text/plain": [
       "FloatProgress(value=0.0, max=10000.0)"
      ]
     },
     "metadata": {},
     "output_type": "display_data"
    },
    {
     "name": "stdout",
     "output_type": "stream",
     "text": [
      "train_loss [0.74]\n",
      "valid_loss [0.75]\n",
      "          mu      alpha      homo     lumo      gap          r2       zpve  \\\n",
      "0  12.021016  63.404932  0.281452  0.90254  0.92222  111.530266  11.938114   \n",
      "\n",
      "           u0        u298       h298        g298        cv  \n",
      "0  411.717969  407.359234  723.69611  413.426155  6.418866  \n"
     ]
    }
   ],
   "source": [
    "for epoch in range(NUM_EPOCHS):\n",
    "    print(\"epoch [%d/%d]\"%(epoch+1, NUM_EPOCHS))\n",
    "    train_loss = 0\n",
    "    train_bar = FloatProgress(min=0, max=TRAIN_SIZE)\n",
    "    display(train_bar)\n",
    "    for batch in range(0, TRAIN_SIZE, BATCH_SIZE):\n",
    "        batch_loss = 0\n",
    "        optimizer.zero_grad()\n",
    "        for sample in range(BATCH_SIZE):\n",
    "            index = sample + batch\n",
    "            smile = X_train.iloc[index]['smiles']\n",
    "            y_hat = model(smile)\n",
    "            y_tru = torch.Tensor(y_train.iloc[index].values.reshape(1, V))\n",
    "            batch_loss += batch_mse_loss(y_hat, y_tru)\n",
    "            train_bar.value += 1\n",
    "        train_loss += (batch_loss * scale_batch_to_train).detach()\n",
    "        batch_loss.backward()\n",
    "        optimizer.step()\n",
    "    valid_loss = 0\n",
    "    accu_check = 0\n",
    "    valid_bar = FloatProgress(min=0, max=VALID_SIZE)\n",
    "    display(valid_bar)\n",
    "    for sample in range(VALID_SIZE):\n",
    "        index = sample\n",
    "        smile = X_val.iloc[index]['smiles']\n",
    "        y_hat = model(smile)\n",
    "        y_tru = torch.Tensor(y_val.iloc[index].values.reshape(1, V))\n",
    "        valid_loss += valid_mse_loss(y_hat, y_tru)\n",
    "        accu_check += np.abs(scaler.inverse_transform(y_hat.detach()) - \\\n",
    "                             scaler.inverse_transform(y_tru.detach())) / VALID_SIZE\n",
    "        valid_bar.value += 1\n",
    "    print('train_loss [%4.2f]'%(train_loss.item()))\n",
    "    print('valid_loss [%4.2f]'%(valid_loss.item()))\n",
    "    print(accu_check/chemical_accuracy)    "
   ]
  },
  {
   "cell_type": "code",
   "execution_count": null,
   "metadata": {},
   "outputs": [],
   "source": []
  }
 ],
 "metadata": {
  "kernelspec": {
   "display_name": "Python 3",
   "language": "python",
   "name": "python3"
  },
  "language_info": {
   "codemirror_mode": {
    "name": "ipython",
    "version": 3
   },
   "file_extension": ".py",
   "mimetype": "text/x-python",
   "name": "python",
   "nbconvert_exporter": "python",
   "pygments_lexer": "ipython3",
   "version": "3.6.5"
  }
 },
 "nbformat": 4,
 "nbformat_minor": 2
}
